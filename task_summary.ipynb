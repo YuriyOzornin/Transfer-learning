{
 "cells": [
  {
   "cell_type": "code",
   "execution_count": null,
   "metadata": {},
   "outputs": [],
   "source": [
    "# Transformers installation\n",
    "! pip install transformers datasets\n"
   ]
  },
  {
   "cell_type": "markdown",
   "metadata": {},
   "source": [
    "# Summary of the tasks"
   ]
  },
  {
   "cell_type": "markdown",
   "metadata": {},
   "source": [
    "На этой странице представлены наиболее распространенные варианты использования библиотеки. Доступные модели позволяют создавать множество различных\n",
    "конфигураций и отличаются большой универсальностью в использовании. Здесь представлены наиболее простые из них, демонстрирующие использование для\n",
    "таких задач, как классификация изображений, ответы на вопросы, классификация последовательностей, распознавание именованных объектов и другие.\n",
    "\n",
    "В этих примерах используются автомодели, которые представляют собой классы, создающие экземпляр модели в соответствии с заданной контрольной\n",
    "точкой, автоматически выбирая правильную архитектуру модели. Пожалуйста, ознакомьтесь с [AutoModel](https://huggingface.co/docs/transformers/main/en/model_doc/auto#transformers.AutoModel) документация\n",
    "для получения дополнительной информации. Не стесняйтесь изменять код, чтобы он был более конкретным, и адаптировать его к вашему конкретному варианту использования.\n",
    "\n",
    "Чтобы модель хорошо справлялась с задачей, она должна быть загружена из контрольной точки, соответствующей этой задаче. Эти контрольные точки обычно предварительно обрабатываются на большом массиве данных и настраиваются для конкретной задачи.\n",
    " Это означает\n",
    "следующее:\n",
    "\n",
    "- Не все модели были точно настроены для всех задач. Если вы хотите точно настроить модель для конкретной задачи, вы можете использовать\n",
    "один из следующих способов *run_$TASK.py* scripts in the [examples](https://github.com/huggingface/transformers/tree/main/examples) directory.\n",
    "- Доработанные модели были доработаны на основе определенного набора данных. Этот набор данных может совпадать, а может и не совпадать с вашим вариантом использования и\n",
    "доменом. Как упоминалось ранее, вы можете использовать [examples](https://github.com/huggingface/transformers/tree/main/examples) scripts для точной настройки вашей модели или вы можете\n",
    "создать свой собственный обучающий скрипт.\n",
    "\n",
    "Для выполнения логического вывода по задаче в библиотеке доступно несколько механизмов:\n",
    "\n",
    "- Конвейеры: очень простые в использовании абстракции, для которых требуется всего две строки кода.\n",
    "- Прямое использование модели: меньше абстракций, но больше гибкости и мощности благодаря прямому доступу к токенизатору\n",
    "  (PyTorch/TensorFlow) и полная способность к логическому выводу.\n",
    "\n",
    "Здесь представлены оба подхода.\n",
    "\n",
    "<Tip>\n",
    "\n",
    "Все представленные здесь задачи используют предварительно подготовленные контрольные точки, которые были точно настроены для конкретных задач. Загрузка\n",
    "контрольной точки, которая не была точно настроена для конкретной задачи, приведет к загрузке только базовых уровней трансформатора, а не\n",
    "дополнительной головки, которая используется для задачи, что приведет к случайной инициализации весов этой головки.\n",
    "\n",
    "Это привело бы к случайному выводу данных.\n",
    "\n",
    "</Tip>"
   ]
  },
  {
   "cell_type": "markdown",
   "metadata": {},
   "source": [
    "## Sequence Classification"
   ]
  },
  {
   "cell_type": "markdown",
   "metadata": {},
   "source": [
    "Классификация последовательностей - это задача классификации последовательностей в соответствии с заданным числом классов. Примером классификации\n",
    "последовательностей является набор данных GLUE, который полностью основан на этой задаче. Если вы хотите точно настроить\n",
    "модель для задачи классификации последовательностей GLUE, вы можете использовать [run_glue.py](https://github.com/huggingface/transformers/tree/main/examples/pytorch/text-classification/run_glue.py), [run_tf_glue.py](https://github.com/huggingface/transformers/tree/main/examples/tensorflow/text-classification/run_tf_glue.py), [run_tf_text_classification.py](https://github.com/huggingface/transformers/tree/main/examples/tensorflow/text-classification/run_tf_text_classification.py) or [run_xnli.py](https://github.com/huggingface/transformers/tree/main/examples/pytorch/text-classification/run_xnli.py) scripts.\n",
    "\n",
    "Вот пример использования конвейеров для анализа настроений: определение того, является ли последовательность положительной или отрицательной. В\n",
    "sst2 используется точно настроенная модель, которая является задачей СКЛЕИВАНИЯ.\n",
    "\n",
    "Это возвращает метку (\"POSITIVE\" or \"NEGATIVE\") наряду со счетом, следующим образом:"
   ]
  },
  {
   "cell_type": "code",
   "execution_count": null,
   "metadata": {},
   "outputs": [
    {
     "data": {
      "text/plain": [
       "label: NEGATIVE, with score: 0.9991"
      ]
     },
     "execution_count": null,
     "metadata": {},
     "output_type": "execute_result"
    }
   ],
   "source": [
    "from transformers import pipeline\n",
    "\n",
    "classifier = pipeline(\"sentiment-analysis\")\n",
    "\n",
    "result = classifier(\"I hate you\")[0]\n",
    "print(f\"label: {result['label']}, with score: {round(result['score'], 4)}\")"
   ]
  },
  {
   "cell_type": "code",
   "execution_count": null,
   "metadata": {},
   "outputs": [
    {
     "data": {
      "text/plain": [
       "label: POSITIVE, with score: 0.9999"
      ]
     },
     "execution_count": null,
     "metadata": {},
     "output_type": "execute_result"
    }
   ],
   "source": [
    "result = classifier(\"I love you\")[0]\n",
    "print(f\"label: {result['label']}, with score: {round(result['score'], 4)}\")"
   ]
  },
  {
   "cell_type": "markdown",
   "metadata": {},
   "source": [
    "Вот пример выполнения классификации последовательностей с использованием модели, чтобы определить, являются ли две последовательности парафразами\n",
    "друг друга. Процесс заключается в следующем:\n",
    "\n",
    "1. Создайте экземпляр токенизатора и модели из имени контрольной точки. Модель идентифицируется как модель BERT и загружается\n",
    "с весами, сохраненными в контрольной точке.\n",
    "2. Создайте последовательность из двух предложений с правильными разделителями для конкретной модели, идентификаторами типов токенов и\n",
    "масками внимания (которые будут автоматически созданы токенизатором).\n",
    "3. Пропустите эту последовательность через модель так, чтобы она была отнесена к одному из двух доступных классов: 0 (не является\n",
    "перефразировкой) и 1 (является перефразировкой).\n",
    "4. Вычислите softmax результата, чтобы получить вероятности для всех классов.\n",
    "5. Распечатайте результаты."
   ]
  },
  {
   "cell_type": "code",
   "execution_count": null,
   "metadata": {},
   "outputs": [
    {
     "data": {
      "text/plain": [
       "not paraphrase: 10%\n",
       "is paraphrase: 90%"
      ]
     },
     "execution_count": null,
     "metadata": {},
     "output_type": "execute_result"
    }
   ],
   "source": [
    "from transformers import AutoTokenizer, AutoModelForSequenceClassification\n",
    "import torch\n",
    "\n",
    "tokenizer = AutoTokenizer.from_pretrained(\"bert-base-cased-finetuned-mrpc\")\n",
    "model = AutoModelForSequenceClassification.from_pretrained(\"bert-base-cased-finetuned-mrpc\")\n",
    "\n",
    "classes = [\"not paraphrase\", \"is paraphrase\"]\n",
    "\n",
    "sequence_0 = \"The company HuggingFace is based in New York City\"\n",
    "sequence_1 = \"Apples are especially bad for your health\"\n",
    "sequence_2 = \"HuggingFace's headquarters are situated in Manhattan\"\n",
    "\n",
    "# The tokenizer will automatically add any model specific separators (i.e. <CLS> and <SEP>) and tokens to\n",
    "# the sequence, as well as compute the attention masks.\n",
    "paraphrase = tokenizer(sequence_0, sequence_2, return_tensors=\"pt\")\n",
    "not_paraphrase = tokenizer(sequence_0, sequence_1, return_tensors=\"pt\")\n",
    "\n",
    "paraphrase_classification_logits = model(**paraphrase).logits\n",
    "not_paraphrase_classification_logits = model(**not_paraphrase).logits\n",
    "\n",
    "paraphrase_results = torch.softmax(paraphrase_classification_logits, dim=1).tolist()[0]\n",
    "not_paraphrase_results = torch.softmax(not_paraphrase_classification_logits, dim=1).tolist()[0]\n",
    "\n",
    "# Should be paraphrase\n",
    "for i in range(len(classes)):\n",
    "    print(f\"{classes[i]}: {int(round(paraphrase_results[i] * 100))}%\")"
   ]
  },
  {
   "cell_type": "code",
   "execution_count": null,
   "metadata": {},
   "outputs": [
    {
     "data": {
      "text/plain": [
       "not paraphrase: 94%\n",
       "is paraphrase: 6%"
      ]
     },
     "execution_count": null,
     "metadata": {},
     "output_type": "execute_result"
    }
   ],
   "source": [
    "# Should not be paraphrase\n",
    "for i in range(len(classes)):\n",
    "    print(f\"{classes[i]}: {int(round(not_paraphrase_results[i] * 100))}%\")"
   ]
  },
  {
   "cell_type": "code",
   "execution_count": null,
   "metadata": {},
   "outputs": [
    {
     "data": {
      "text/plain": [
       "not paraphrase: 10%\n",
       "is paraphrase: 90%"
      ]
     },
     "execution_count": null,
     "metadata": {},
     "output_type": "execute_result"
    }
   ],
   "source": [
    "from transformers import AutoTokenizer, TFAutoModelForSequenceClassification\n",
    "import tensorflow as tf\n",
    "\n",
    "tokenizer = AutoTokenizer.from_pretrained(\"bert-base-cased-finetuned-mrpc\")\n",
    "model = TFAutoModelForSequenceClassification.from_pretrained(\"bert-base-cased-finetuned-mrpc\")\n",
    "\n",
    "classes = [\"not paraphrase\", \"is paraphrase\"]\n",
    "\n",
    "sequence_0 = \"The company HuggingFace is based in New York City\"\n",
    "sequence_1 = \"Apples are especially bad for your health\"\n",
    "sequence_2 = \"HuggingFace's headquarters are situated in Manhattan\"\n",
    "\n",
    "# The tokenizer will automatically add any model specific separators (i.e. <CLS> and <SEP>) and tokens to\n",
    "# the sequence, as well as compute the attention masks.\n",
    "paraphrase = tokenizer(sequence_0, sequence_2, return_tensors=\"tf\")\n",
    "not_paraphrase = tokenizer(sequence_0, sequence_1, return_tensors=\"tf\")\n",
    "\n",
    "paraphrase_classification_logits = model(paraphrase).logits\n",
    "not_paraphrase_classification_logits = model(not_paraphrase).logits\n",
    "\n",
    "paraphrase_results = tf.nn.softmax(paraphrase_classification_logits, axis=1).numpy()[0]\n",
    "not_paraphrase_results = tf.nn.softmax(not_paraphrase_classification_logits, axis=1).numpy()[0]\n",
    "\n",
    "# Should be paraphrase\n",
    "for i in range(len(classes)):\n",
    "    print(f\"{classes[i]}: {int(round(paraphrase_results[i] * 100))}%\")"
   ]
  },
  {
   "cell_type": "code",
   "execution_count": null,
   "metadata": {},
   "outputs": [
    {
     "data": {
      "text/plain": [
       "not paraphrase: 94%\n",
       "is paraphrase: 6%"
      ]
     },
     "execution_count": null,
     "metadata": {},
     "output_type": "execute_result"
    }
   ],
   "source": [
    "# Should not be paraphrase\n",
    "for i in range(len(classes)):\n",
    "    print(f\"{classes[i]}: {int(round(not_paraphrase_results[i] * 100))}%\")"
   ]
  },
  {
   "cell_type": "markdown",
   "metadata": {},
   "source": [
    "## Extractive Question Answering"
   ]
  },
  {
   "cell_type": "markdown",
   "metadata": {},
   "source": [
    "Экстрактивный ответ на вопрос - это задача извлечения ответа из текста, заданного вопросом. Примером\n",
    "набора данных для ответа на вопрос является набор данных SQuAD, который полностью основан на этой задаче. Если вы хотите точно настроить\n",
    "модель для выполнения задачи отряда, вы можете использовать [run_qa.py](https://github.com/huggingface/transformers/tree/main/examples/pytorch/question-answering/run_qa.py) and\n",
    "[run_tf_squad.py](https://github.com/huggingface/transformers/tree/main/examples/tensorflow/question-answering/run_tf_squad.py)\n",
    "scripts.\n",
    "\n",
    "\n",
    "Вот пример использования конвейеров для ответа на вопрос: извлечение ответа из текста, заданного вопросом. В нем\n",
    "используется тонко настроенная модель для SQuAD."
   ]
  },
  {
   "cell_type": "code",
   "execution_count": null,
   "metadata": {},
   "outputs": [],
   "source": [
    "from transformers import pipeline\n",
    "\n",
    "question_answerer = pipeline(\"question-answering\")\n",
    "\n",
    "context = r\"\"\"\n",
    "Extractive Question Answering is the task of extracting an answer from a text given a question. An example of a\n",
    "question answering dataset is the SQuAD dataset, which is entirely based on that task. If you would like to fine-tune\n",
    "a model on a SQuAD task, you may leverage the examples/pytorch/question-answering/run_squad.py script.\n",
    "\"\"\""
   ]
  },
  {
   "cell_type": "markdown",
   "metadata": {},
   "source": [
    "Это возвращает ответ, извлеченный из текста, оценку достоверности, а также значения \"начало\" и \"конец\", которые являются\n",
    "позициями извлеченного ответа в тексте."
   ]
  },
  {
   "cell_type": "code",
   "execution_count": null,
   "metadata": {},
   "outputs": [
    {
     "data": {
      "text/plain": [
       "Answer: 'the task of extracting an answer from a text given a question', score: 0.6177, start: 34, end: 95"
      ]
     },
     "execution_count": null,
     "metadata": {},
     "output_type": "execute_result"
    }
   ],
   "source": [
    "result = question_answerer(question=\"What is extractive question answering?\", context=context)\n",
    "print(\n",
    "    f\"Answer: '{result['answer']}', score: {round(result['score'], 4)}, start: {result['start']}, end: {result['end']}\"\n",
    ")"
   ]
  },
  {
   "cell_type": "code",
   "execution_count": null,
   "metadata": {},
   "outputs": [
    {
     "data": {
      "text/plain": [
       "Answer: 'SQuAD dataset', score: 0.5152, start: 147, end: 160"
      ]
     },
     "execution_count": null,
     "metadata": {},
     "output_type": "execute_result"
    }
   ],
   "source": [
    "result = question_answerer(question=\"What is a good example of a question answering dataset?\", context=context)\n",
    "print(\n",
    "    f\"Answer: '{result['answer']}', score: {round(result['score'], 4)}, start: {result['start']}, end: {result['end']}\"\n",
    ")"
   ]
  },
  {
   "cell_type": "markdown",
   "metadata": {},
   "source": [
    "Вот пример ответа на вопрос с использованием модели и токенизатора. Процесс заключается в следующем:\n",
    "\n",
    "1. Создайте токенизатор и модель из имени контрольной точки. Модель идентифицируется как модель BERT и загружается\n",
    "с весами, сохраненными в контрольной точке.\n",
    "2. Сформулируйте текст и несколько вопросов.\n",
    "3. Повторите вопросы и создайте последовательность из текста и текущего вопроса, используя соответствующие\n",
    "модели разделители, идентификаторы типов токенов и маски внимания.\n",
    "4. Пропустите эту последовательность через модель. Это выводит диапазон оценок по всем жетонам последовательности (вопрос и\n",
    "текст), как для начальной, так и для конечной позиций.\n",
    "5. Вычислите softmax результата, чтобы получить вероятности для всех жетонов.\n",
    "6. Извлеките токены из определенных значений start и stop, преобразуйте эти токены в строку.\n",
    "7. Распечатайте результаты."
   ]
  },
  {
   "cell_type": "code",
   "execution_count": null,
   "metadata": {},
   "outputs": [
    {
     "data": {
      "text/plain": [
       "Question: How many pretrained models are available in 🤗 Transformers?\n",
       "Answer: over 32 +\n",
       "Question: What does 🤗 Transformers provide?\n",
       "Answer: general - purpose architectures\n",
       "Question: 🤗 Transformers provides interoperability between which frameworks?\n",
       "Answer: tensorflow 2. 0 and pytorch"
      ]
     },
     "execution_count": null,
     "metadata": {},
     "output_type": "execute_result"
    }
   ],
   "source": [
    "from transformers import AutoTokenizer, AutoModelForQuestionAnswering\n",
    "import torch\n",
    "\n",
    "tokenizer = AutoTokenizer.from_pretrained(\"bert-large-uncased-whole-word-masking-finetuned-squad\")\n",
    "model = AutoModelForQuestionAnswering.from_pretrained(\"bert-large-uncased-whole-word-masking-finetuned-squad\")\n",
    "\n",
    "text = r\"\"\"\n",
    "🤗 Transformers (formerly known as pytorch-transformers and pytorch-pretrained-bert) provides general-purpose\n",
    "architectures (BERT, GPT-2, RoBERTa, XLM, DistilBert, XLNet…) for Natural Language Understanding (NLU) and Natural\n",
    "Language Generation (NLG) with over 32+ pretrained models in 100+ languages and deep interoperability between\n",
    "TensorFlow 2.0 and PyTorch.\n",
    "\"\"\"\n",
    "\n",
    "questions = [\n",
    "    \"How many pretrained models are available in 🤗 Transformers?\",\n",
    "    \"What does 🤗 Transformers provide?\",\n",
    "    \"🤗 Transformers provides interoperability between which frameworks?\",\n",
    "]\n",
    "\n",
    "for question in questions:\n",
    "    inputs = tokenizer(question, text, add_special_tokens=True, return_tensors=\"pt\")\n",
    "    input_ids = inputs[\"input_ids\"].tolist()[0]\n",
    "\n",
    "    outputs = model(**inputs)\n",
    "    answer_start_scores = outputs.start_logits\n",
    "    answer_end_scores = outputs.end_logits\n",
    "\n",
    "    # Get the most likely beginning of answer with the argmax of the score\n",
    "    answer_start = torch.argmax(answer_start_scores)\n",
    "    # Get the most likely end of answer with the argmax of the score\n",
    "    answer_end = torch.argmax(answer_end_scores) + 1\n",
    "\n",
    "    answer = tokenizer.convert_tokens_to_string(\n",
    "        tokenizer.convert_ids_to_tokens(input_ids[answer_start:answer_end])\n",
    "    )\n",
    "\n",
    "    print(f\"Question: {question}\")\n",
    "    print(f\"Answer: {answer}\")"
   ]
  },
  {
   "cell_type": "code",
   "execution_count": null,
   "metadata": {},
   "outputs": [
    {
     "data": {
      "text/plain": [
       "Question: How many pretrained models are available in 🤗 Transformers?\n",
       "Answer: over 32 +\n",
       "Question: What does 🤗 Transformers provide?\n",
       "Answer: general - purpose architectures\n",
       "Question: 🤗 Transformers provides interoperability between which frameworks?\n",
       "Answer: tensorflow 2. 0 and pytorch"
      ]
     },
     "execution_count": null,
     "metadata": {},
     "output_type": "execute_result"
    }
   ],
   "source": [
    "from transformers import AutoTokenizer, TFAutoModelForQuestionAnswering\n",
    "import tensorflow as tf\n",
    "\n",
    "tokenizer = AutoTokenizer.from_pretrained(\"bert-large-uncased-whole-word-masking-finetuned-squad\")\n",
    "model = TFAutoModelForQuestionAnswering.from_pretrained(\"bert-large-uncased-whole-word-masking-finetuned-squad\")\n",
    "\n",
    "text = r\"\"\"\n",
    "🤗 Transformers (formerly known as pytorch-transformers and pytorch-pretrained-bert) provides general-purpose\n",
    "architectures (BERT, GPT-2, RoBERTa, XLM, DistilBert, XLNet…) for Natural Language Understanding (NLU) and Natural\n",
    "Language Generation (NLG) with over 32+ pretrained models in 100+ languages and deep interoperability between\n",
    "TensorFlow 2.0 and PyTorch.\n",
    "\"\"\"\n",
    "\n",
    "questions = [\n",
    "    \"How many pretrained models are available in 🤗 Transformers?\",\n",
    "    \"What does 🤗 Transformers provide?\",\n",
    "    \"🤗 Transformers provides interoperability between which frameworks?\",\n",
    "]\n",
    "\n",
    "for question in questions:\n",
    "    inputs = tokenizer(question, text, add_special_tokens=True, return_tensors=\"tf\")\n",
    "    input_ids = inputs[\"input_ids\"].numpy()[0]\n",
    "\n",
    "    outputs = model(inputs)\n",
    "    answer_start_scores = outputs.start_logits\n",
    "    answer_end_scores = outputs.end_logits\n",
    "\n",
    "    # Get the most likely beginning of answer with the argmax of the score\n",
    "    answer_start = tf.argmax(answer_start_scores, axis=1).numpy()[0]\n",
    "    # Get the most likely end of answer with the argmax of the score\n",
    "    answer_end = tf.argmax(answer_end_scores, axis=1).numpy()[0] + 1\n",
    "\n",
    "    answer = tokenizer.convert_tokens_to_string(\n",
    "        tokenizer.convert_ids_to_tokens(input_ids[answer_start:answer_end])\n",
    "    )\n",
    "\n",
    "    print(f\"Question: {question}\")\n",
    "    print(f\"Answer: {answer}\")"
   ]
  },
  {
   "cell_type": "markdown",
   "metadata": {},
   "source": [
    "## Language Modeling"
   ]
  },
  {
   "cell_type": "markdown",
   "metadata": {},
   "source": [
    "Языковое моделирование - это задача подгонки модели к корпусу данных, который может быть специфичен для конкретной предметной области. Все популярные\n",
    "модели на основе transformer обучаются с использованием различных вариантов языкового моделирования, например, BERT с использованием маскированного языкового моделирования,\n",
    "GPT-2 с использованием каузального языкового моделирования.\n",
    "\n",
    "Языковое моделирование может быть полезно и вне предварительной подготовки, например, для изменения распределения моделей\n",
    "в зависимости от предметной области: использование языковой модели, обученной на очень большом корпусе, а затем ее точная настройка для набора данных новостей или\n",
    "научных статей, например. [LysandreJik/arxiv-nlp](https://huggingface.co/lysandre/arxiv-nlp)."
   ]
  },
  {
   "cell_type": "markdown",
   "metadata": {},
   "source": [
    "### Masked Language Modeling"
   ]
  },
  {
   "cell_type": "markdown",
   "metadata": {},
   "source": [
    "Моделирование маскируемого языка - это задача маскирования токенов в последовательности с помощью маскирующего токена и запроса модели\n",
    "заполнить эту маску соответствующим токеном. Это позволяет модели учитывать как правый контекст (токены\n",
    "справа от маски), так и левый контекст (токены слева от маски). Такое обучение создает прочную основу для\n",
    "последующих задач, требующих двунаправленного контекста, таких как SQuAD (question answering, see [Lewis, Lui, Goyal et al.](https://arxiv.org/abs/1910.13461), part 4.2). If you would like to fine-tune a model on a masked language modeling\n",
    "task, you may leverage the [run_mlm.py](https://github.com/huggingface/transformers/tree/main/examples/pytorch/language-modeling/run_mlm.py) script.\n",
    "\n",
    "Вот пример использования конвейеров для замены маски из последовательности:"
   ]
  },
  {
   "cell_type": "code",
   "execution_count": null,
   "metadata": {},
   "outputs": [],
   "source": [
    "from transformers import pipeline\n",
    "\n",
    "unmasker = pipeline(\"fill-mask\")"
   ]
  },
  {
   "cell_type": "markdown",
   "metadata": {},
   "source": [
    "Это выводит последовательности с заполненной маской, оценкой достоверности и идентификатором токена в словаре токенизатора:"
   ]
  },
  {
   "cell_type": "code",
   "execution_count": null,
   "metadata": {},
   "outputs": [
    {
     "data": {
      "text/plain": [
       "[{'score': 0.1793,\n",
       "  'sequence': 'HuggingFace is creating a tool that the community uses to solve '\n",
       "              'NLP tasks.',\n",
       "  'token': 3944,\n",
       "  'token_str': ' tool'},\n",
       " {'score': 0.1135,\n",
       "  'sequence': 'HuggingFace is creating a framework that the community uses to '\n",
       "              'solve NLP tasks.',\n",
       "  'token': 7208,\n",
       "  'token_str': ' framework'},\n",
       " {'score': 0.0524,\n",
       "  'sequence': 'HuggingFace is creating a library that the community uses to '\n",
       "              'solve NLP tasks.',\n",
       "  'token': 5560,\n",
       "  'token_str': ' library'},\n",
       " {'score': 0.0349,\n",
       "  'sequence': 'HuggingFace is creating a database that the community uses to '\n",
       "              'solve NLP tasks.',\n",
       "  'token': 8503,\n",
       "  'token_str': ' database'},\n",
       " {'score': 0.0286,\n",
       "  'sequence': 'HuggingFace is creating a prototype that the community uses to '\n",
       "              'solve NLP tasks.',\n",
       "  'token': 17715,\n",
       "  'token_str': ' prototype'}]"
      ]
     },
     "execution_count": null,
     "metadata": {},
     "output_type": "execute_result"
    }
   ],
   "source": [
    "from pprint import pprint\n",
    "\n",
    "pprint(\n",
    "    unmasker(\n",
    "        f\"HuggingFace is creating a {unmasker.tokenizer.mask_token} that the community uses to solve NLP tasks.\"\n",
    "    )\n",
    ")"
   ]
  },
  {
   "cell_type": "markdown",
   "metadata": {},
   "source": [
    "Ниже приведен пример моделирования замаскированного языка с использованием модели и токенизатора. Процесс заключается в следующем:\n",
    "\n",
    "1. Создайте экземпляр токенизатора и модели из имени контрольной точки. Модель идентифицируется как модель Дистильберта и\n",
    "загружается с весами, сохраненными в контрольной точке.\n",
    "2. Определите последовательность с замаскированным токеном, поместив `tokenizer.mask_token` вместо слова.\n",
    "3. Закодируйте эту последовательность в список идентификаторов и найдите позицию замаскированного токена в этом списке.\n",
    "4. Извлеките прогнозы по индексу токена маски: этот тензор имеет тот же размер, что и словарь, а\n",
    "значения представляют собой оценки, присвоенные каждому токену. Модель присваивает более высокие оценки токенам, которые она считает вероятными в данном\n",
    "контексте.\n",
    "5. Извлеките 5 лучших токенов, используя методы PyTorch `topk` или TensorFlow `top_k`.\n",
    "6. Замените токен маски на токены и распечатайте результаты"
   ]
  },
  {
   "cell_type": "code",
   "execution_count": null,
   "metadata": {},
   "outputs": [
    {
     "data": {
      "text/plain": [
       "Distilled models are smaller than the models they mimic. Using them instead of the large versions would help reduce our carbon footprint.\n",
       "Distilled models are smaller than the models they mimic. Using them instead of the large versions would help increase our carbon footprint.\n",
       "Distilled models are smaller than the models they mimic. Using them instead of the large versions would help decrease our carbon footprint.\n",
       "Distilled models are smaller than the models they mimic. Using them instead of the large versions would help offset our carbon footprint.\n",
       "Distilled models are smaller than the models they mimic. Using them instead of the large versions would help improve our carbon footprint."
      ]
     },
     "execution_count": null,
     "metadata": {},
     "output_type": "execute_result"
    }
   ],
   "source": [
    "from transformers import AutoModelForMaskedLM, AutoTokenizer\n",
    "import torch\n",
    "\n",
    "tokenizer = AutoTokenizer.from_pretrained(\"distilbert-base-cased\")\n",
    "model = AutoModelForMaskedLM.from_pretrained(\"distilbert-base-cased\")\n",
    "\n",
    "sequence = (\n",
    "    \"Distilled models are smaller than the models they mimic. Using them instead of the large \"\n",
    "    f\"versions would help {tokenizer.mask_token} our carbon footprint.\"\n",
    ")\n",
    "\n",
    "inputs = tokenizer(sequence, return_tensors=\"pt\")\n",
    "mask_token_index = torch.where(inputs[\"input_ids\"] == tokenizer.mask_token_id)[1]\n",
    "\n",
    "token_logits = model(**inputs).logits\n",
    "mask_token_logits = token_logits[0, mask_token_index, :]\n",
    "\n",
    "top_5_tokens = torch.topk(mask_token_logits, 5, dim=1).indices[0].tolist()\n",
    "\n",
    "for token in top_5_tokens:\n",
    "    print(sequence.replace(tokenizer.mask_token, tokenizer.decode([token])))"
   ]
  },
  {
   "cell_type": "code",
   "execution_count": null,
   "metadata": {},
   "outputs": [
    {
     "data": {
      "text/plain": [
       "Distilled models are smaller than the models they mimic. Using them instead of the large versions would help reduce our carbon footprint.\n",
       "Distilled models are smaller than the models they mimic. Using them instead of the large versions would help increase our carbon footprint.\n",
       "Distilled models are smaller than the models they mimic. Using them instead of the large versions would help decrease our carbon footprint.\n",
       "Distilled models are smaller than the models they mimic. Using them instead of the large versions would help offset our carbon footprint.\n",
       "Distilled models are smaller than the models they mimic. Using them instead of the large versions would help improve our carbon footprint."
      ]
     },
     "execution_count": null,
     "metadata": {},
     "output_type": "execute_result"
    }
   ],
   "source": [
    "from transformers import TFAutoModelForMaskedLM, AutoTokenizer\n",
    "import tensorflow as tf\n",
    "\n",
    "tokenizer = AutoTokenizer.from_pretrained(\"distilbert-base-cased\")\n",
    "model = TFAutoModelForMaskedLM.from_pretrained(\"distilbert-base-cased\")\n",
    "\n",
    "sequence = (\n",
    "    \"Distilled models are smaller than the models they mimic. Using them instead of the large \"\n",
    "    f\"versions would help {tokenizer.mask_token} our carbon footprint.\"\n",
    ")\n",
    "\n",
    "inputs = tokenizer(sequence, return_tensors=\"tf\")\n",
    "mask_token_index = tf.where(inputs[\"input_ids\"] == tokenizer.mask_token_id)[0, 1]\n",
    "\n",
    "token_logits = model(**inputs).logits\n",
    "mask_token_logits = token_logits[0, mask_token_index, :]\n",
    "\n",
    "top_5_tokens = tf.math.top_k(mask_token_logits, 5).indices.numpy()\n",
    "\n",
    "for token in top_5_tokens:\n",
    "    print(sequence.replace(tokenizer.mask_token, tokenizer.decode([token])))"
   ]
  },
  {
   "cell_type": "markdown",
   "metadata": {},
   "source": [
    "При этом выводятся пять последовательностей с 5 лучшими токенами, предсказанными моделью."
   ]
  },
  {
   "cell_type": "markdown",
   "metadata": {},
   "source": [
    "### Causal Language Modeling"
   ]
  },
  {
   "cell_type": "markdown",
   "metadata": {},
   "source": [
    "Каузальное языковое моделирование - это задача прогнозирования токена, следующего за последовательностью токенов. В этой ситуации\n",
    "модель учитывает только левый контекст (токены слева от маски). Такое обучение особенно интересно\n",
    "для задач генерации. Если вы хотите точно настроить модель в задаче моделирования каузального языка, вы можете использовать\n",
    "[run_clm.py](https://github.com/huggingface/transformers/tree/main/examples/pytorch/language-modeling/run_clm.py) script.\n",
    "\n",
    "Обычно следующий токен предсказывается путем выборки логитов последнего скрытого состояния, которое модель выдает из\n",
    "входной последовательности.\n",
    "\n",
    "Вот пример использования токенизатора и модели и использования\n",
    "[top_k_top_p_filtering()](https://huggingface.co/docs/transformers/main/en/internal/generation_utils#transformers.top_k_top_p_filtering) метод для выборки следующего токена, следующего за входной последовательностью\n",
    "токенов."
   ]
  },
  {
   "cell_type": "code",
   "execution_count": null,
   "metadata": {},
   "outputs": [
    {
     "data": {
      "text/plain": [
       "Hugging Face is based in DUMBO, New York City, and ..."
      ]
     },
     "execution_count": null,
     "metadata": {},
     "output_type": "execute_result"
    }
   ],
   "source": [
    "from transformers import AutoModelForCausalLM, AutoTokenizer, top_k_top_p_filtering\n",
    "import torch\n",
    "from torch import nn\n",
    "\n",
    "tokenizer = AutoTokenizer.from_pretrained(\"gpt2\")\n",
    "model = AutoModelForCausalLM.from_pretrained(\"gpt2\")\n",
    "\n",
    "sequence = f\"Hugging Face is based in DUMBO, New York City, and\"\n",
    "\n",
    "inputs = tokenizer(sequence, return_tensors=\"pt\")\n",
    "input_ids = inputs[\"input_ids\"]\n",
    "\n",
    "# get logits of last hidden state\n",
    "next_token_logits = model(**inputs).logits[:, -1, :]\n",
    "\n",
    "# filter\n",
    "filtered_next_token_logits = top_k_top_p_filtering(next_token_logits, top_k=50, top_p=1.0)\n",
    "\n",
    "# sample\n",
    "probs = nn.functional.softmax(filtered_next_token_logits, dim=-1)\n",
    "next_token = torch.multinomial(probs, num_samples=1)\n",
    "\n",
    "generated = torch.cat([input_ids, next_token], dim=-1)\n",
    "\n",
    "resulting_string = tokenizer.decode(generated.tolist()[0])\n",
    "print(resulting_string)"
   ]
  },
  {
   "cell_type": "markdown",
   "metadata": {},
   "source": [
    "Вот пример использования токенизатора и модели, а также использования\n",
    "[tf_top_k_top_p_filtering()](https://huggingface.co/docs/transformers/main/en/internal/generation_utils#transformers.tf_top_k_top_p_filtering) метод для выборки следующего токена, следующего за входной последовательностью\n",
    "токенов."
   ]
  },
  {
   "cell_type": "code",
   "execution_count": null,
   "metadata": {},
   "outputs": [
    {
     "data": {
      "text/plain": [
       "Hugging Face is based in DUMBO, New York City, and ..."
      ]
     },
     "execution_count": null,
     "metadata": {},
     "output_type": "execute_result"
    }
   ],
   "source": [
    "from transformers import TFAutoModelForCausalLM, AutoTokenizer, tf_top_k_top_p_filtering\n",
    "import tensorflow as tf\n",
    "\n",
    "tokenizer = AutoTokenizer.from_pretrained(\"gpt2\")\n",
    "model = TFAutoModelForCausalLM.from_pretrained(\"gpt2\")\n",
    "\n",
    "sequence = f\"Hugging Face is based in DUMBO, New York City, and\"\n",
    "\n",
    "inputs = tokenizer(sequence, return_tensors=\"tf\")\n",
    "input_ids = inputs[\"input_ids\"]\n",
    "\n",
    "# get logits of last hidden state\n",
    "next_token_logits = model(**inputs).logits[:, -1, :]\n",
    "\n",
    "# filter\n",
    "filtered_next_token_logits = tf_top_k_top_p_filtering(next_token_logits, top_k=50, top_p=1.0)\n",
    "\n",
    "# sample\n",
    "next_token = tf.random.categorical(filtered_next_token_logits, dtype=tf.int32, num_samples=1)\n",
    "\n",
    "generated = tf.concat([input_ids, next_token], axis=1)\n",
    "\n",
    "resulting_string = tokenizer.decode(generated.numpy().tolist()[0])\n",
    "print(resulting_string)"
   ]
  },
  {
   "cell_type": "markdown",
   "metadata": {},
   "source": [
    "Это выводит (надеюсь) последовательный следующий токен, следующий за исходной последовательностью, которой в нашем случае является слово *is* or\n",
    "*features*.\n",
    "\n",
    "В следующем разделе мы покажем, как [generation.GenerationMixin.generate()](https://huggingface.co/docs/transformers/main/en/main_classes/text_generation#transformers.GenerationMixin.generate) может использоваться для\n",
    "генерации нескольких токенов заданной длины вместо одного токена за раз."
   ]
  },
  {
   "cell_type": "markdown",
   "metadata": {},
   "source": [
    "### Text Generation"
   ]
  },
  {
   "cell_type": "markdown",
   "metadata": {},
   "source": [
    "генерация текста (также известная как генерация открытого текста) цель состоит в том, чтобы создать связную часть текста, которая является\n",
    "продолжением заданного контекста. В следующем примере показано, как *GPT-2* можно использовать в конвейерах для генерации текста.\n",
    "По умолчанию во всех моделях применяется функция отбора проб *Top-K* при использовании в трубопроводах, как указано в соответствующих конфигурациях\n",
    "(see [gpt-2 config](https://huggingface.co/gpt2/blob/main/config.json) for example)."
   ]
  },
  {
   "cell_type": "code",
   "execution_count": null,
   "metadata": {},
   "outputs": [
    {
     "data": {
      "text/plain": [
       "[{'generated_text': 'As far as I am concerned, I will be the first to admit that I am not a fan of the idea of a\n",
       "\"free market.\" I think that the idea of a free market is a bit of a stretch. I think that the idea'}]"
      ]
     },
     "execution_count": null,
     "metadata": {},
     "output_type": "execute_result"
    }
   ],
   "source": [
    "from transformers import pipeline\n",
    "\n",
    "text_generator = pipeline(\"text-generation\")\n",
    "print(text_generator(\"As far as I am concerned, I will\", max_length=50, do_sample=False))"
   ]
  },
  {
   "cell_type": "markdown",
   "metadata": {},
   "source": [
    "Здесь модель генерирует случайный текст общей максимальной длиной *50* токенов из контекста * \"Насколько я\n",
    "понимаю, я буду\"*. За кулисами объект конвейера вызывает метод\n",
    "[PreTrainedModel.generate()](https://huggingface.co/docs/transformers/main/en/main_classes/text_generation#transformers.GenerationMixin.generate) для генерации текста. Аргументы по умолчанию для этого метода могут быть\n",
    "переопределены в конвейере, как показано выше для аргументов `max_length` и `do_sample`.\n",
    "\n",
    "Ниже приведен пример генерации текста с использованием \"XLNet\" и его токенизатора, который включает в себя прямой вызов `generate()`:"
   ]
  },
  {
   "cell_type": "code",
   "execution_count": null,
   "metadata": {},
   "outputs": [
    {
     "data": {
      "text/plain": [
       "Today the weather is really nice and I am planning ..."
      ]
     },
     "execution_count": null,
     "metadata": {},
     "output_type": "execute_result"
    }
   ],
   "source": [
    "from transformers import AutoModelForCausalLM, AutoTokenizer\n",
    "\n",
    "model = AutoModelForCausalLM.from_pretrained(\"xlnet-base-cased\")\n",
    "tokenizer = AutoTokenizer.from_pretrained(\"xlnet-base-cased\")\n",
    "\n",
    "# Padding text helps XLNet with short prompts - proposed by Aman Rusia in https://github.com/rusiaaman/XLNet-gen#methodology\n",
    "PADDING_TEXT = \"\"\"In 1991, the remains of Russian Tsar Nicholas II and his family\n",
    "(except for Alexei and Maria) are discovered.\n",
    "The voice of Nicholas's young son, Tsarevich Alexei Nikolaevich, narrates the\n",
    "remainder of the story. 1883 Western Siberia,\n",
    "a young Grigori Rasputin is asked by his father and a group of men to perform magic.\n",
    "Rasputin has a vision and denounces one of the men as a horse thief. Although his\n",
    "father initially slaps him for making such an accusation, Rasputin watches as the\n",
    "man is chased outside and beaten. Twenty years later, Rasputin sees a vision of\n",
    "the Virgin Mary, prompting him to become a priest. Rasputin quickly becomes famous,\n",
    "with people, even a bishop, begging for his blessing. <eod> </s> <eos>\"\"\"\n",
    "\n",
    "prompt = \"Today the weather is really nice and I am planning on \"\n",
    "inputs = tokenizer(PADDING_TEXT + prompt, add_special_tokens=False, return_tensors=\"pt\")[\"input_ids\"]\n",
    "\n",
    "prompt_length = len(tokenizer.decode(inputs[0]))\n",
    "outputs = model.generate(inputs, max_length=250, do_sample=True, top_p=0.95, top_k=60)\n",
    "generated = prompt + tokenizer.decode(outputs[0])[prompt_length + 1 :]\n",
    "\n",
    "print(generated)"
   ]
  },
  {
   "cell_type": "code",
   "execution_count": null,
   "metadata": {},
   "outputs": [
    {
     "data": {
      "text/plain": [
       "Today the weather is really nice and I am planning ..."
      ]
     },
     "execution_count": null,
     "metadata": {},
     "output_type": "execute_result"
    }
   ],
   "source": [
    "from transformers import TFAutoModelForCausalLM, AutoTokenizer\n",
    "\n",
    "model = TFAutoModelForCausalLM.from_pretrained(\"xlnet-base-cased\")\n",
    "tokenizer = AutoTokenizer.from_pretrained(\"xlnet-base-cased\")\n",
    "\n",
    "# Padding text helps XLNet with short prompts - proposed by Aman Rusia in https://github.com/rusiaaman/XLNet-gen#methodology\n",
    "PADDING_TEXT = \"\"\"In 1991, the remains of Russian Tsar Nicholas II and his family\n",
    "(except for Alexei and Maria) are discovered.\n",
    "The voice of Nicholas's young son, Tsarevich Alexei Nikolaevich, narrates the\n",
    "remainder of the story. 1883 Western Siberia,\n",
    "a young Grigori Rasputin is asked by his father and a group of men to perform magic.\n",
    "Rasputin has a vision and denounces one of the men as a horse thief. Although his\n",
    "father initially slaps him for making such an accusation, Rasputin watches as the\n",
    "man is chased outside and beaten. Twenty years later, Rasputin sees a vision of\n",
    "the Virgin Mary, prompting him to become a priest. Rasputin quickly becomes famous,\n",
    "with people, even a bishop, begging for his blessing. <eod> </s> <eos>\"\"\"\n",
    "\n",
    "prompt = \"Today the weather is really nice and I am planning on \"\n",
    "inputs = tokenizer(PADDING_TEXT + prompt, add_special_tokens=False, return_tensors=\"tf\")[\"input_ids\"]\n",
    "\n",
    "prompt_length = len(tokenizer.decode(inputs[0]))\n",
    "outputs = model.generate(inputs, max_length=250, do_sample=True, top_p=0.95, top_k=60)\n",
    "generated = prompt + tokenizer.decode(outputs[0])[prompt_length + 1 :]\n",
    "\n",
    "print(generated)"
   ]
  },
  {
   "cell_type": "markdown",
   "metadata": {},
   "source": [
    "В настоящее время генерация текста возможна с помощью *GPT-2*, *OpenAI-GPT*, *CTRL*, *XLNet*, *Transfo-XL* и *Reformer* в\n",
    "PyTorch, а также для большинства моделей в Tensorflow. Как видно из приведенного выше примера, *XLNet* и *Transfo-XL* часто\n",
    "нуждаются в дополнении, чтобы хорошо работать. GPT-2, как правило, является хорошим выбором для генерации открытого текста, поскольку он был разработан\n",
    "на миллионах веб-страниц с целью моделирования причинно-следственных связей.\n",
    "\n",
    "Для получения дополнительной информации о том, как применять различные стратегии декодирования для генерации текста, пожалуйста, ознакомьтесь с нашей\n",
    "публикацией в блоге text generation. [here](https://huggingface.co/blog/how-to-generate)."
   ]
  },
  {
   "cell_type": "markdown",
   "metadata": {},
   "source": [
    "## Named Entity Recognition"
   ]
  },
  {
   "cell_type": "markdown",
   "metadata": {},
   "source": [
    "Распознавание именованных объектов (NER) - это задача классификации токенов в соответствии с классом, например, идентификация токена\n",
    "как человека, организации или местоположения. Примером набора данных для распознавания именованных объектов является набор данных CoNLL-2003,\n",
    "который полностью основан на этой задаче. Если вы хотите точно настроить модель для более сложной задачи, вы можете использовать\n",
    "[run_ner.py](https://github.com/huggingface/transformers/tree/main/examples/pytorch/token-classification/run_ner.py) script.\n",
    "\n",
    "Вот пример использования конвейеров для распознавания именованных объектов, в частности, попытки идентифицировать токены как\n",
    "принадлежащие к одному из 9 классов:\n",
    "\n",
    "- O, Outside of a named entity\n",
    "- B-MIS, Beginning of a miscellaneous entity right after another miscellaneous entity\n",
    "- I-MIS, Miscellaneous entity\n",
    "- B-PER, Beginning of a person's name right after another person's name\n",
    "- I-PER, Person's name\n",
    "- B-ORG, Beginning of an organisation right after another organisation\n",
    "- I-ORG, Organisation\n",
    "- B-LOC, Beginning of a location right after another location\n",
    "- I-LOC, Location\n",
    "\n",
    "Он использует отлаженную модель на CoNLL-2003,[@stefan-it](https://github.com/stefan-it) from [dbmdz](https://github.com/dbmdz)."
   ]
  },
  {
   "cell_type": "code",
   "execution_count": null,
   "metadata": {},
   "outputs": [],
   "source": [
    "from transformers import pipeline\n",
    "\n",
    "ner_pipe = pipeline(\"ner\")\n",
    "\n",
    "sequence = \"\"\"Hugging Face Inc. is a company based in New York City. Its headquarters are in DUMBO,\n",
    "therefore very close to the Manhattan Bridge which is visible from the window.\"\"\""
   ]
  },
  {
   "cell_type": "markdown",
   "metadata": {},
   "source": [
    "В результате будет получен список всех слов, которые были идентифицированы как одна из сущностей из 9 классов, определенных выше.\n",
    "Вот ожидаемые результаты:"
   ]
  },
  {
   "cell_type": "code",
   "execution_count": null,
   "metadata": {},
   "outputs": [
    {
     "data": {
      "text/plain": [
       "{'entity': 'I-ORG', 'score': 0.9996, 'index': 1, 'word': 'Hu', 'start': 0, 'end': 2}\n",
       "{'entity': 'I-ORG', 'score': 0.9910, 'index': 2, 'word': '##gging', 'start': 2, 'end': 7}\n",
       "{'entity': 'I-ORG', 'score': 0.9982, 'index': 3, 'word': 'Face', 'start': 8, 'end': 12}\n",
       "{'entity': 'I-ORG', 'score': 0.9995, 'index': 4, 'word': 'Inc', 'start': 13, 'end': 16}\n",
       "{'entity': 'I-LOC', 'score': 0.9994, 'index': 11, 'word': 'New', 'start': 40, 'end': 43}\n",
       "{'entity': 'I-LOC', 'score': 0.9993, 'index': 12, 'word': 'York', 'start': 44, 'end': 48}\n",
       "{'entity': 'I-LOC', 'score': 0.9994, 'index': 13, 'word': 'City', 'start': 49, 'end': 53}\n",
       "{'entity': 'I-LOC', 'score': 0.9863, 'index': 19, 'word': 'D', 'start': 79, 'end': 80}\n",
       "{'entity': 'I-LOC', 'score': 0.9514, 'index': 20, 'word': '##UM', 'start': 80, 'end': 82}\n",
       "{'entity': 'I-LOC', 'score': 0.9337, 'index': 21, 'word': '##BO', 'start': 82, 'end': 84}\n",
       "{'entity': 'I-LOC', 'score': 0.9762, 'index': 28, 'word': 'Manhattan', 'start': 114, 'end': 123}\n",
       "{'entity': 'I-LOC', 'score': 0.9915, 'index': 29, 'word': 'Bridge', 'start': 124, 'end': 130}"
      ]
     },
     "execution_count": null,
     "metadata": {},
     "output_type": "execute_result"
    }
   ],
   "source": [
    "for entity in ner_pipe(sequence):\n",
    "    print(entity)"
   ]
  },
  {
   "cell_type": "markdown",
   "metadata": {},
   "source": [
    "Обратите внимание, как маркеры последовательности \"Обнимающееся лицо\" были идентифицированы как организация, а \"Нью-Йорк Сити\",\n",
    "\"ДАМБО\" и \"Манхэттенский мост\" были идентифицированы как местоположения.\n",
    "\n",
    "Вот пример распознавания именованных объектов с использованием модели и токенизатора. Процесс заключается в следующем:\n",
    "\n",
    "1. Создайте экземпляр токенизатора и модели из имени контрольной точки. Модель идентифицируется как модель BERT и загружается\n",
    "с весами, сохраненными в контрольной точке.\n",
    "2. Определите последовательность с известными объектами, например, \"Обнимающееся лицо\" в качестве организации и \"Нью-Йорк Сити\" в качестве местоположения.\n",
    "3. Разделите слова на лексемы, чтобы их можно было сопоставить с предсказаниями. Мы используем небольшую хитрость, сначала полностью\n",
    "кодируя и декодируя последовательность, так что у нас остается строка, содержащая специальные токены.\n",
    "4. Закодируйте эту последовательность в IDs (специальные токены добавляются автоматически).\n",
    "5. Извлеките прогнозы, передав входные данные в модель и получив первые выходные данные. В результате\n",
    "получается распределение по"
   ]
  },
  {
   "cell_type": "code",
   "execution_count": null,
   "metadata": {},
   "outputs": [],
   "source": [
    "from transformers import AutoModelForTokenClassification, AutoTokenizer\n",
    "import torch\n",
    "\n",
    "model = AutoModelForTokenClassification.from_pretrained(\"dbmdz/bert-large-cased-finetuned-conll03-english\")\n",
    "tokenizer = AutoTokenizer.from_pretrained(\"bert-base-cased\")\n",
    "\n",
    "sequence = (\n",
    "    \"Hugging Face Inc. is a company based in New York City. Its headquarters are in DUMBO, \"\n",
    "    \"therefore very close to the Manhattan Bridge.\"\n",
    ")\n",
    "\n",
    "inputs = tokenizer(sequence, return_tensors=\"pt\")\n",
    "tokens = inputs.tokens()\n",
    "\n",
    "outputs = model(**inputs).logits\n",
    "predictions = torch.argmax(outputs, dim=2)"
   ]
  },
  {
   "cell_type": "code",
   "execution_count": null,
   "metadata": {},
   "outputs": [],
   "source": [
    "from transformers import TFAutoModelForTokenClassification, AutoTokenizer\n",
    "import tensorflow as tf\n",
    "\n",
    "model = TFAutoModelForTokenClassification.from_pretrained(\"dbmdz/bert-large-cased-finetuned-conll03-english\")\n",
    "tokenizer = AutoTokenizer.from_pretrained(\"bert-base-cased\")\n",
    "\n",
    "sequence = (\n",
    "    \"Hugging Face Inc. is a company based in New York City. Its headquarters are in DUMBO, \"\n",
    "    \"therefore very close to the Manhattan Bridge.\"\n",
    ")\n",
    "\n",
    "inputs = tokenizer(sequence, return_tensors=\"tf\")\n",
    "tokens = inputs.tokens()\n",
    "\n",
    "outputs = model(**inputs)[0]\n",
    "predictions = tf.argmax(outputs, axis=2)"
   ]
  },
  {
   "cell_type": "markdown",
   "metadata": {},
   "source": [
    "Это выводит список каждого токена, сопоставленного с соответствующим предсказанием. В отличие от конвейера, здесь каждый\n",
    "токен имеет предсказание, поскольку мы не удалили \"0\"-й класс, что означает, что для этого токена не была найдена конкретная сущность\n",
    ".\n",
    "\n",
    "В приведенном выше примере \"predictions\" - это целое число, соответствующее предсказанному классу. Мы можем использовать свойство\n",
    "\"model.config.id2label\", чтобы восстановить имя класса, соответствующее номеру класса, который\n",
    "показан ниже:"
   ]
  },
  {
   "cell_type": "code",
   "execution_count": null,
   "metadata": {},
   "outputs": [
    {
     "data": {
      "text/plain": [
       "('[CLS]', 'O')\n",
       "('Hu', 'I-ORG')\n",
       "('##gging', 'I-ORG')\n",
       "('Face', 'I-ORG')\n",
       "('Inc', 'I-ORG')\n",
       "('.', 'O')\n",
       "('is', 'O')\n",
       "('a', 'O')\n",
       "('company', 'O')\n",
       "('based', 'O')\n",
       "('in', 'O')\n",
       "('New', 'I-LOC')\n",
       "('York', 'I-LOC')\n",
       "('City', 'I-LOC')\n",
       "('.', 'O')\n",
       "('Its', 'O')\n",
       "('headquarters', 'O')\n",
       "('are', 'O')\n",
       "('in', 'O')\n",
       "('D', 'I-LOC')\n",
       "('##UM', 'I-LOC')\n",
       "('##BO', 'I-LOC')\n",
       "(',', 'O')\n",
       "('therefore', 'O')\n",
       "('very', 'O')\n",
       "('close', 'O')\n",
       "('to', 'O')\n",
       "('the', 'O')\n",
       "('Manhattan', 'I-LOC')\n",
       "('Bridge', 'I-LOC')\n",
       "('.', 'O')\n",
       "('[SEP]', 'O')"
      ]
     },
     "execution_count": null,
     "metadata": {},
     "output_type": "execute_result"
    }
   ],
   "source": [
    "for token, prediction in zip(tokens, predictions[0].numpy()):\n",
    "    print((token, model.config.id2label[prediction]))"
   ]
  },
  {
   "cell_type": "markdown",
   "metadata": {},
   "source": [
    "## Summarization"
   ]
  },
  {
   "cell_type": "markdown",
   "metadata": {},
   "source": [
    "Обобщение - это задача обобщения документа или статьи в виде более короткого текста. Если вы хотите точно настроить\n",
    "модель для задачи обобщения, вы можете использовать [run_summarization.py](https://github.com/huggingface/transformers/tree/main/examples/pytorch/summarization/run_summarization.py)\n",
    "script.\n",
    "\n",
    "Примером набора данных для обобщения является набор данных CNN / Daily Mail, который состоит из длинных новостных статей и был\n",
    "создан для задачи обобщения. Если вы хотите точно настроить модель для задачи обобщения,\n",
    "в этом разделе описаны различные подходы. [document](https://github.com/huggingface/transformers/tree/main/examples/pytorch/summarization/README.md).\n",
    "\n",
    "Вот пример использования конвейеров для обобщения. В нем используется модель Bart, которая была доработана на CNN\n",
    "/ Набор данных Daily Mail."
   ]
  },
  {
   "cell_type": "code",
   "execution_count": null,
   "metadata": {},
   "outputs": [],
   "source": [
    "from transformers import pipeline\n",
    "\n",
    "summarizer = pipeline(\"summarization\")\n",
    "\n",
    "ARTICLE = \"\"\" New York (CNN)When Liana Barrientos was 23 years old, she got married in Westchester County, New York.\n",
    "A year later, she got married again in Westchester County, but to a different man and without divorcing her first husband.\n",
    "Only 18 days after that marriage, she got hitched yet again. Then, Barrientos declared \"I do\" five more times, sometimes only within two weeks of each other.\n",
    "In 2010, she married once more, this time in the Bronx. In an application for a marriage license, she stated it was her \"first and only\" marriage.\n",
    "Barrientos, now 39, is facing two criminal counts of \"offering a false instrument for filing in the first degree,\" referring to her false statements on the\n",
    "2010 marriage license application, according to court documents.\n",
    "Prosecutors said the marriages were part of an immigration scam.\n",
    "On Friday, she pleaded not guilty at State Supreme Court in the Bronx, according to her attorney, Christopher Wright, who declined to comment further.\n",
    "After leaving court, Barrientos was arrested and charged with theft of service and criminal trespass for allegedly sneaking into the New York subway through an emergency exit, said Detective\n",
    "Annette Markowski, a police spokeswoman. In total, Barrientos has been married 10 times, with nine of her marriages occurring between 1999 and 2002.\n",
    "All occurred either in Westchester County, Long Island, New Jersey or the Bronx. She is believed to still be married to four men, and at one time, she was married to eight men at once, prosecutors say.\n",
    "Prosecutors said the immigration scam involved some of her husbands, who filed for permanent residence status shortly after the marriages.\n",
    "Any divorces happened only after such filings were approved. It was unclear whether any of the men will be prosecuted.\n",
    "The case was referred to the Bronx District Attorney\\'s Office by Immigration and Customs Enforcement and the Department of Homeland Security\\'s\n",
    "Investigation Division. Seven of the men are from so-called \"red-flagged\" countries, including Egypt, Turkey, Georgia, Pakistan and Mali.\n",
    "Her eighth husband, Rashid Rajput, was deported in 2006 to his native Pakistan after an investigation by the Joint Terrorism Task Force.\n",
    "If convicted, Barrientos faces up to four years in prison.  Her next court appearance is scheduled for May 18.\n",
    "\"\"\""
   ]
  },
  {
   "cell_type": "markdown",
   "metadata": {},
   "source": [
    "Поскольку конвейер обобщения зависит от метода `PreTrainedModel.generate()`, мы можем переопределить\n",
    "аргументы по умолчанию `PreTrainedModel.generate()` непосредственно в конвейере для `max_length` и `min_length`, как показано\n",
    "ниже. В результате получается следующая сводка:"
   ]
  },
  {
   "cell_type": "code",
   "execution_count": null,
   "metadata": {},
   "outputs": [
    {
     "data": {
      "text/plain": [
       "[{'summary_text': ' Liana Barrientos, 39, is charged with two counts of \"offering a false instrument for filing in\n",
       "the first degree\" In total, she has been married 10 times, with nine of her marriages occurring between 1999 and\n",
       "2002 . At one time, she was married to eight men at once, prosecutors say .'}]"
      ]
     },
     "execution_count": null,
     "metadata": {},
     "output_type": "execute_result"
    }
   ],
   "source": [
    "print(summarizer(ARTICLE, max_length=130, min_length=30, do_sample=False))"
   ]
  },
  {
   "cell_type": "markdown",
   "metadata": {},
   "source": [
    "Вот пример выполнения обобщения с использованием модели и токенизатора. Процесс заключается в следующем:\n",
    "\n",
    "1. Создайте токенизатор и модель из имени контрольной точки. Обобщение обычно выполняется с использованием модели кодера-декодера\n",
    ", такой как \"Bart\" или \"T5\".\n",
    "2. Определите статью, по которой следует обобщить.\n",
    "3. Добавьте префикс, специфичный для T5, \"обобщить:\".\n",
    "4. Используйте метод \"PreTrainedModel.generate()\" для создания сводки.\n",
    "\n",
    "В этом примере мы используем модель Google T5. Хотя она была предварительно обучена только для многозадачного смешанного набора данных (включая\n",
    "CNN / Daily Mail), это дает очень хорошие результаты."
   ]
  },
  {
   "cell_type": "code",
   "execution_count": null,
   "metadata": {},
   "outputs": [
    {
     "data": {
      "text/plain": [
       "prosecutors say the marriages were part of an immigration scam. if convicted, barrientos faces two criminal\n",
       "counts of \"offering a false instrument for filing in the first degree\" she has been married 10 times, nine of them\n",
       "between 1999 and 2002."
      ]
     },
     "execution_count": null,
     "metadata": {},
     "output_type": "execute_result"
    }
   ],
   "source": [
    "from transformers import AutoModelForSeq2SeqLM, AutoTokenizer\n",
    "\n",
    "model = AutoModelForSeq2SeqLM.from_pretrained(\"t5-base\")\n",
    "tokenizer = AutoTokenizer.from_pretrained(\"t5-base\")\n",
    "\n",
    "# T5 uses a max_length of 512 so we cut the article to 512 tokens.\n",
    "inputs = tokenizer(\"summarize: \" + ARTICLE, return_tensors=\"pt\", max_length=512, truncation=True)\n",
    "outputs = model.generate(\n",
    "    inputs[\"input_ids\"], max_length=150, min_length=40, length_penalty=2.0, num_beams=4, early_stopping=True\n",
    ")\n",
    "\n",
    "print(tokenizer.decode(outputs[0], skip_special_tokens=True))"
   ]
  },
  {
   "cell_type": "code",
   "execution_count": null,
   "metadata": {},
   "outputs": [
    {
     "data": {
      "text/plain": [
       "prosecutors say the marriages were part of an immigration scam. if convicted, barrientos faces two criminal\n",
       "counts of \"offering a false instrument for filing in the first degree\" she has been married 10 times, nine of them\n",
       "between 1999 and 2002."
      ]
     },
     "execution_count": null,
     "metadata": {},
     "output_type": "execute_result"
    }
   ],
   "source": [
    "from transformers import TFAutoModelForSeq2SeqLM, AutoTokenizer\n",
    "\n",
    "model = TFAutoModelForSeq2SeqLM.from_pretrained(\"t5-base\")\n",
    "tokenizer = AutoTokenizer.from_pretrained(\"t5-base\")\n",
    "\n",
    "# T5 uses a max_length of 512 so we cut the article to 512 tokens.\n",
    "inputs = tokenizer(\"summarize: \" + ARTICLE, return_tensors=\"tf\", max_length=512)\n",
    "outputs = model.generate(\n",
    "    inputs[\"input_ids\"], max_length=150, min_length=40, length_penalty=2.0, num_beams=4, early_stopping=True\n",
    ")\n",
    "\n",
    "print(tokenizer.decode(outputs[0], skip_special_tokens=True))"
   ]
  },
  {
   "cell_type": "markdown",
   "metadata": {},
   "source": [
    "## Translation"
   ]
  },
  {
   "cell_type": "markdown",
   "metadata": {},
   "source": [
    "Письменный перевод - это задача по переводу текста с одного языка на другой. Если вы хотите точно настроить модель для\n",
    "решения задачи перевода, вы можете использовать [run_translation.py](https://github.com/huggingface/transformers/tree/main/examples/pytorch/translation/run_translation.py) script.\n",
    "\n",
    "Примером набора данных для перевода является набор данных WMT English to German, который содержит предложения на английском языке в качестве входных\n",
    "данных и соответствующие предложения на немецком языке в качестве целевых данных. Если вы хотите точно настроить модель для\n",
    "решения задачи перевода, в этом разделе описаны различные подходы. [document](https://github.com/huggingface/transformers/tree/main/examples/pytorch/translation/README.md).\n",
    "\n",
    "Вот пример использования конвейеров для выполнения перевода. В нем используется модель T5, которая была предварительно обучена только на\n",
    "наборе данных с несколькими задачами (включая WMT), но, тем не менее, дает впечатляющие результаты перевода."
   ]
  },
  {
   "cell_type": "code",
   "execution_count": null,
   "metadata": {},
   "outputs": [
    {
     "data": {
      "text/plain": [
       "[{'translation_text': 'Hugging Face ist ein Technologieunternehmen mit Sitz in New York und Paris.'}]"
      ]
     },
     "execution_count": null,
     "metadata": {},
     "output_type": "execute_result"
    }
   ],
   "source": [
    "from transformers import pipeline\n",
    "\n",
    "translator = pipeline(\"translation_en_to_de\")\n",
    "print(translator(\"Hugging Face is a technology company based in New York and Paris\", max_length=40))"
   ]
  },
  {
   "cell_type": "markdown",
   "metadata": {},
   "source": [
    "Поскольку конвейер трансляции зависит от метода `PreTrainedModel.generate()`, мы можем переопределить\n",
    "аргументы по умолчанию для `PreTrainedModel.generate()` непосредственно в конвейере, как показано для `max_length` выше.\n",
    "\n",
    "Вот пример выполнения перевода с использованием модели и токенизатора. Процесс заключается в следующем:\n",
    "\n",
    "1. Создайте экземпляр токенизатора и модели из имени контрольной точки. Обобщение обычно выполняется с использованием модели кодера-декодера\n",
    ", такой как \"Bart\" или \"T5\".\n",
    "2. Определите статью, по которой следует обобщить.\n",
    "3. Добавьте префикс, специфичный для T5, \"перевести с английского на немецкий:\".\n",
    "4. Используйте метод `PreTrainedModel.generate()` для выполнения перевода."
   ]
  },
  {
   "cell_type": "code",
   "execution_count": null,
   "metadata": {},
   "outputs": [
    {
     "data": {
      "text/plain": [
       "Hugging Face ist ein Technologieunternehmen mit Sitz in New York und Paris."
      ]
     },
     "execution_count": null,
     "metadata": {},
     "output_type": "execute_result"
    }
   ],
   "source": [
    "from transformers import AutoModelForSeq2SeqLM, AutoTokenizer\n",
    "\n",
    "model = AutoModelForSeq2SeqLM.from_pretrained(\"t5-base\")\n",
    "tokenizer = AutoTokenizer.from_pretrained(\"t5-base\")\n",
    "\n",
    "inputs = tokenizer(\n",
    "    \"translate English to German: Hugging Face is a technology company based in New York and Paris\",\n",
    "    return_tensors=\"pt\",\n",
    ")\n",
    "outputs = model.generate(inputs[\"input_ids\"], max_length=40, num_beams=4, early_stopping=True)\n",
    "\n",
    "print(tokenizer.decode(outputs[0], skip_special_tokens=True))"
   ]
  },
  {
   "cell_type": "code",
   "execution_count": null,
   "metadata": {},
   "outputs": [
    {
     "data": {
      "text/plain": [
       "Hugging Face ist ein Technologieunternehmen mit Sitz in New York und Paris."
      ]
     },
     "execution_count": null,
     "metadata": {},
     "output_type": "execute_result"
    }
   ],
   "source": [
    "from transformers import TFAutoModelForSeq2SeqLM, AutoTokenizer\n",
    "\n",
    "model = TFAutoModelForSeq2SeqLM.from_pretrained(\"t5-base\")\n",
    "tokenizer = AutoTokenizer.from_pretrained(\"t5-base\")\n",
    "\n",
    "inputs = tokenizer(\n",
    "    \"translate English to German: Hugging Face is a technology company based in New York and Paris\",\n",
    "    return_tensors=\"tf\",\n",
    ")\n",
    "outputs = model.generate(inputs[\"input_ids\"], max_length=40, num_beams=4, early_stopping=True)\n",
    "\n",
    "print(tokenizer.decode(outputs[0], skip_special_tokens=True))"
   ]
  },
  {
   "cell_type": "markdown",
   "metadata": {},
   "source": [
    "We get the same translation as with the pipeline example."
   ]
  },
  {
   "cell_type": "markdown",
   "metadata": {},
   "source": [
    "## Audio classification"
   ]
  },
  {
   "cell_type": "markdown",
   "metadata": {},
   "source": [
    "Классификация звука присваивает аудиосигналу класс. Набор данных для определения ключевых слов из [SUPERB](https://huggingface.co/datasets/superb) benchmark - это пример набора данных, который можно использовать для точной настройки классификации звука. Этот набор данных содержит десять классов ключевых слов для классификации. Если вы хотите точно настроить модель для классификации звука, ознакомьтесь с [run_audio_classification.py](https://github.com/huggingface/transformers/blob/main/examples/pytorch/audio-classification/run_audio_classification.py) script or this [how-to guide](https://huggingface.co/docs/transformers/main/en/./tasks/audio_classification).\n",
    "\n",
    "Следующие примеры демонстрируют, как использовать [pipeline()](https://huggingface.co/docs/transformers/main/en/main_classes/pipelines#transformers.pipeline) а также модель и токенизатор для вывода классификации звука:"
   ]
  },
  {
   "cell_type": "code",
   "execution_count": null,
   "metadata": {},
   "outputs": [
    {
     "data": {
      "text/plain": [
       "[{'score': 0.1315, 'label': 'calm'}, {'score': 0.1307, 'label': 'neutral'}, {'score': 0.1274, 'label': 'sad'}, {'score': 0.1261, 'label': 'fearful'}, {'score': 0.1242, 'label': 'happy'}]"
      ]
     },
     "execution_count": null,
     "metadata": {},
     "output_type": "execute_result"
    }
   ],
   "source": [
    "from transformers import pipeline\n",
    "from datasets import load_dataset\n",
    "import torch\n",
    "\n",
    "torch.manual_seed(42)\n",
    "dataset = load_dataset(\"hf-internal-testing/librispeech_asr_demo\", \"clean\", split=\"validation\")\n",
    "dataset = dataset.sort(\"id\")\n",
    "audio_file = dataset[0][\"audio\"][\"path\"]\n",
    "\n",
    "audio_classifier = pipeline(\n",
    "    task=\"audio-classification\", model=\"ehcalabres/wav2vec2-lg-xlsr-en-speech-emotion-recognition\"\n",
    ")\n",
    "predictions = audio_classifier(audio_file)\n",
    "predictions = [{\"score\": round(pred[\"score\"], 4), \"label\": pred[\"label\"]} for pred in predictions]\n",
    "predictions"
   ]
  },
  {
   "cell_type": "markdown",
   "metadata": {},
   "source": [
    "Общий процесс использования модели и средства извлечения признаков для классификации звука таков:\n",
    "\n",
    "1. Создайте средство извлечения признаков и модель из имени контрольной точки.\n",
    "2. Обработайте аудиосигнал для классификации с помощью средства извлечения признаков.\n",
    "3. Передайте входные данные через модель и используйте `argmax`, чтобы получить наиболее вероятный класс.\n",
    "4. Преобразуйте идентификатор класса в имя класса с помощью `id2label`, чтобы получить интерпретируемый результат."
   ]
  },
  {
   "cell_type": "code",
   "execution_count": null,
   "metadata": {},
   "outputs": [
    {
     "data": {
      "text/plain": [
       "'_unknown_'"
      ]
     },
     "execution_count": null,
     "metadata": {},
     "output_type": "execute_result"
    }
   ],
   "source": [
    "from transformers import AutoFeatureExtractor, AutoModelForAudioClassification\n",
    "from datasets import load_dataset\n",
    "import torch\n",
    "\n",
    "dataset = load_dataset(\"hf-internal-testing/librispeech_asr_demo\", \"clean\", split=\"validation\")\n",
    "dataset = dataset.sort(\"id\")\n",
    "sampling_rate = dataset.features[\"audio\"].sampling_rate\n",
    "\n",
    "feature_extractor = AutoFeatureExtractor.from_pretrained(\"superb/wav2vec2-base-superb-ks\")\n",
    "model = AutoModelForAudioClassification.from_pretrained(\"superb/wav2vec2-base-superb-ks\")\n",
    "\n",
    "inputs = feature_extractor(dataset[0][\"audio\"][\"array\"], sampling_rate=sampling_rate, return_tensors=\"pt\")\n",
    "\n",
    "with torch.no_grad():\n",
    "    logits = model(**inputs).logits\n",
    "\n",
    "predicted_class_ids = torch.argmax(logits, dim=-1).item()\n",
    "predicted_label = model.config.id2label[predicted_class_ids]\n",
    "predicted_label"
   ]
  },
  {
   "cell_type": "markdown",
   "metadata": {},
   "source": [
    "## Automatic speech recognition"
   ]
  },
  {
   "cell_type": "markdown",
   "metadata": {},
   "source": [
    "Автоматическое распознавание речи преобразует аудиосигнал в текст. То [Common Voice](https://huggingface.co/datasets/common_voice) набор данных - это пример набора данных, который можно использовать для точной настройки автоматического распознавания речи. Он содержит аудиофайл говорящего и соответствующее предложение. Если вы хотите точно настроить модель для автоматического распознавания речи, ознакомьтесь с [run_speech_recognition_ctc.py](https://github.com/huggingface/transformers/blob/main/examples/pytorch/speech-recognition/run_speech_recognition_ctc.py) or [run_speech_recognition_seq2seq.py](https://github.com/huggingface/transformers/blob/main/examples/pytorch/speech-recognition/run_speech_recognition_seq2seq.py) scripts or this [how-to guide](https://huggingface.co/docs/transformers/main/en/./tasks/asr).\n",
    "\n",
    "Следующие примеры демонстрируют, как использовать [pipeline()](https://huggingface.co/docs/transformers/main/en/main_classes/pipelines#transformers.pipeline), а также модель и токенизатор для автоматического распознавания речи.:"
   ]
  },
  {
   "cell_type": "code",
   "execution_count": null,
   "metadata": {},
   "outputs": [
    {
     "data": {
      "text/plain": [
       "{'text': 'MISTER QUILTER IS THE APOSTLE OF THE MIDDLE CLASSES AND WE ARE GLAD TO WELCOME HIS GOSPEL'}"
      ]
     },
     "execution_count": null,
     "metadata": {},
     "output_type": "execute_result"
    }
   ],
   "source": [
    "from transformers import pipeline\n",
    "from datasets import load_dataset\n",
    "\n",
    "dataset = load_dataset(\"hf-internal-testing/librispeech_asr_demo\", \"clean\", split=\"validation\")\n",
    "dataset = dataset.sort(\"id\")\n",
    "audio_file = dataset[0][\"audio\"][\"path\"]\n",
    "\n",
    "speech_recognizer = pipeline(task=\"automatic-speech-recognition\", model=\"facebook/wav2vec2-base-960h\")\n",
    "speech_recognizer(audio_file)"
   ]
  },
  {
   "cell_type": "markdown",
   "metadata": {},
   "source": [
    "Общий процесс использования модели и процессора для автоматического распознавания речи таков:\n",
    "\n",
    "1. Создайте экземпляр процессора (который перегруппирует средство извлечения признаков для обработки входных данных и токенизатор для декодирования) и модель по имени контрольной точки.\n",
    "2. Обработайте аудиосигнал и текст с помощью процессора.\n",
    "3. Пропустите входные данные через модель и используйте `argmax`, чтобы получить предсказанный текст.\n",
    "4. Расшифруйте текст с помощью токенизатора, чтобы получить транскрипцию."
   ]
  },
  {
   "cell_type": "code",
   "execution_count": null,
   "metadata": {},
   "outputs": [
    {
     "data": {
      "text/plain": [
       "'MISTER QUILTER IS THE APOSTLE OF THE MIDDLE CLASSES AND WE ARE GLAD TO WELCOME HIS GOSPEL'"
      ]
     },
     "execution_count": null,
     "metadata": {},
     "output_type": "execute_result"
    }
   ],
   "source": [
    "from transformers import AutoProcessor, AutoModelForCTC\n",
    "from datasets import load_dataset\n",
    "import torch\n",
    "\n",
    "dataset = load_dataset(\"hf-internal-testing/librispeech_asr_demo\", \"clean\", split=\"validation\")\n",
    "dataset = dataset.sort(\"id\")\n",
    "sampling_rate = dataset.features[\"audio\"].sampling_rate\n",
    "\n",
    "processor = AutoProcessor.from_pretrained(\"facebook/wav2vec2-base-960h\")\n",
    "model = AutoModelForCTC.from_pretrained(\"facebook/wav2vec2-base-960h\")\n",
    "\n",
    "inputs = processor(dataset[0][\"audio\"][\"array\"], sampling_rate=sampling_rate, return_tensors=\"pt\")\n",
    "with torch.no_grad():\n",
    "    logits = model(**inputs).logits\n",
    "predicted_ids = torch.argmax(logits, dim=-1)\n",
    "\n",
    "transcription = processor.batch_decode(predicted_ids)\n",
    "transcription[0]"
   ]
  },
  {
   "cell_type": "markdown",
   "metadata": {},
   "source": [
    "## Image classification"
   ]
  },
  {
   "cell_type": "markdown",
   "metadata": {},
   "source": [
    "Подобно классификации текста и звука, классификация изображений присваивает изображению класс. Набор данных [CIFAR-100](https://huggingface.co/datasets/cifar100) является примером набора данных, который можно использовать для точной настройки классификации изображений. Он содержит изображение и соответствующий класс. Если вы хотите точно настроить модель классификации изображений, ознакомьтесь со сценарием [run_image_classification.py](https://github.com/huggingface/transformers/blob/main/examples/pytorch/image-classification/run_image_classification.py) или этим [практическим руководством](https://huggingface.co/docs/transformers/main/en/./tasks/image_classification).\n",
    "\n",
    "Следующие примеры демонстрируют, как использовать [pipeline()](https://huggingface.co/docs/transformers/main/en/main_classes/pipelines#transformers.pipeline), а также модель и токенизатор для вывода классификации изображений:"
   ]
  },
  {
   "cell_type": "code",
   "execution_count": null,
   "metadata": {},
   "outputs": [
    {
     "data": {
      "text/plain": [
       "Class lynx, catamount with score 0.4335\n",
       "Class cougar, puma, catamount, mountain lion, painter, panther, Felis concolor with score 0.0348\n",
       "Class snow leopard, ounce, Panthera uncia with score 0.0324\n",
       "Class Egyptian cat with score 0.0239\n",
       "Class tiger cat with score 0.0229"
      ]
     },
     "execution_count": null,
     "metadata": {},
     "output_type": "execute_result"
    }
   ],
   "source": [
    "from transformers import pipeline\n",
    "\n",
    "vision_classifier = pipeline(task=\"image-classification\")\n",
    "result = vision_classifier(\n",
    "    images=\"https://huggingface.co/datasets/huggingface/documentation-images/resolve/main/pipeline-cat-chonk.jpeg\"\n",
    ")\n",
    "print(\"\\n\".join([f\"Class {d['label']} with score {round(d['score'], 4)}\" for d in result]))"
   ]
  },
  {
   "cell_type": "markdown",
   "metadata": {},
   "source": [
    "Общий процесс использования модели и графического процессора для классификации изображений таков:\n",
    "\n",
    "1. Создайте экземпляр графического процессора и модели из имени контрольной точки.\n",
    "2. Обработайте изображение для классификации с помощью графического процессора.\n",
    "3. Передайте входные данные через модель и используйте `argmax`, чтобы получить предсказанный класс.\n",
    "4. Преобразуйте идентификатор класса в имя класса с помощью `id2label`, чтобы вернуть интерпретируемый результат."
   ]
  },
  {
   "cell_type": "code",
   "execution_count": null,
   "metadata": {},
   "outputs": [
    {
     "data": {
      "text/plain": [
       "Egyptian cat"
      ]
     },
     "execution_count": null,
     "metadata": {},
     "output_type": "execute_result"
    }
   ],
   "source": [
    "from transformers import AutoImageProcessor, AutoModelForImageClassification\n",
    "import torch\n",
    "from datasets import load_dataset\n",
    "\n",
    "dataset = load_dataset(\"huggingface/cats-image\")\n",
    "image = dataset[\"test\"][\"image\"][0]\n",
    "\n",
    "feature_extractor = AutoImageProcessor.from_pretrained(\"google/vit-base-patch16-224\")\n",
    "model = AutoModelForImageClassification.from_pretrained(\"google/vit-base-patch16-224\")\n",
    "\n",
    "inputs = feature_extractor(image, return_tensors=\"pt\")\n",
    "\n",
    "with torch.no_grad():\n",
    "    logits = model(**inputs).logits\n",
    "\n",
    "predicted_label = logits.argmax(-1).item()\n",
    "print(model.config.id2label[predicted_label])"
   ]
  }
 ],
 "metadata": {
  "language_info": {
   "name": "python"
  }
 },
 "nbformat": 4,
 "nbformat_minor": 4
}
